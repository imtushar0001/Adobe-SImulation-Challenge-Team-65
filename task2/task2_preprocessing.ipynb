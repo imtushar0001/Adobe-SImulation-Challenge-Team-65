{
  "cells": [
    {
      "cell_type": "markdown",
      "source": [
        "# Preprocessing notebook for task 2\n",
        "- The sector of the company has an influence on the type of tweet generated.\n",
        "- In this notebook, we find out the sector of the company using wikidata queries"
      ],
      "metadata": {
        "id": "H6Vk8RfQ83YQ"
      },
      "id": "H6Vk8RfQ83YQ"
    },
    {
      "cell_type": "markdown",
      "source": [
        "## Installing and importing the necessary libraries"
      ],
      "metadata": {
        "id": "0Hixhgsh87k3"
      },
      "id": "0Hixhgsh87k3"
    },
    {
      "cell_type": "code",
      "execution_count": null,
      "id": "713a4c43",
      "metadata": {
        "id": "713a4c43"
      },
      "outputs": [],
      "source": [
        "!pip install pandas\n",
        "!pip install requests\n",
        "import pandas as pd\n",
        "import requests"
      ]
    },
    {
      "cell_type": "markdown",
      "source": [
        "## Loading the training dataset to a dataframe\n",
        " Replace 'behaviour_simulation_train.xlsx' with the appropriate file path of the training dataset."
      ],
      "metadata": {
        "id": "BQDrKrVE-J33"
      },
      "id": "BQDrKrVE-J33"
    },
    {
      "cell_type": "code",
      "execution_count": null,
      "id": "d27ad490",
      "metadata": {
        "id": "d27ad490"
      },
      "outputs": [],
      "source": [
        "ds=pd.read_excel('behaviour_simulation_train.xlsx')"
      ]
    },
    {
      "cell_type": "markdown",
      "source": [
        "## Extracting the unique company names"
      ],
      "metadata": {
        "id": "MygwNPeO-UV2"
      },
      "id": "MygwNPeO-UV2"
    },
    {
      "cell_type": "code",
      "execution_count": null,
      "id": "acc31622",
      "metadata": {
        "id": "acc31622"
      },
      "outputs": [],
      "source": [
        "companies = ds['inferred company'].unique()"
      ]
    },
    {
      "cell_type": "markdown",
      "source": [
        "## A dictionary is created which will map the company to it's sector"
      ],
      "metadata": {
        "id": "moS9WVey-dhP"
      },
      "id": "moS9WVey-dhP"
    },
    {
      "cell_type": "code",
      "execution_count": null,
      "id": "9bc351aa",
      "metadata": {
        "scrolled": true,
        "id": "9bc351aa"
      },
      "outputs": [],
      "source": [
        "industry = dict()\n",
        "for company in companies:\n",
        "    industry[company]=[]"
      ]
    },
    {
      "cell_type": "markdown",
      "source": [
        "## Function to return the list of sectors associated with a company\n",
        " This function searches for the company by its name and inputs its qid to **get_industries_for_qid()** to finally return the list of industries the company works in."
      ],
      "metadata": {
        "id": "cDIFxUSIJo43"
      },
      "id": "cDIFxUSIJo43"
    },
    {
      "cell_type": "code",
      "source": [
        "def get_entity_industries(entity_name, entity_type=\"item\"):\n",
        "    # Wikidata endpoint for entity search\n",
        "    endpoint_url = \"https://www.wikidata.org/w/api.php\"\n",
        "\n",
        "    # Wikidata query to search for an entity by name and type\n",
        "    search_query = {\n",
        "        \"action\": \"wbsearchentities\",\n",
        "        \"format\": \"json\",\n",
        "        \"language\": \"en\",\n",
        "        \"search\": entity_name,\n",
        "        \"type\": entity_type\n",
        "    }\n",
        "\n",
        "    # Sending the request to Wikidata\n",
        "    response = requests.get(url=endpoint_url, params=search_query)\n",
        "\n",
        "    # Handling the response\n",
        "    try:\n",
        "        data = response.json()\n",
        "        if data[\"search\"]:\n",
        "            # Loop through search results to find the best match\n",
        "            for result in data[\"search\"]:\n",
        "                qid = result[\"id\"]\n",
        "                industries = get_industries_for_qid(qid)\n",
        "                if industries:\n",
        "                    return industries\n",
        "\n",
        "        print(f\"No matching entity found for {entity_name}\")\n",
        "        return None\n",
        "\n",
        "    except (KeyError, IndexError, requests.RequestException) as e:\n",
        "        print(f\"Error: {e}\")\n",
        "        return None\n"
      ],
      "metadata": {
        "id": "08w5nVHDANxX"
      },
      "id": "08w5nVHDANxX",
      "execution_count": null,
      "outputs": []
    },
    {
      "cell_type": "markdown",
      "source": [
        "## Function to find the sectors of a company\n",
        " This function takes in the company qid and searches for the industries/sectors the company is associated with. The output of the search is the qid of industry and this qid is the input to **get_label_for_qid()** which returns the name(label) of the industry/sector."
      ],
      "metadata": {
        "id": "V25pyx1XKFHs"
      },
      "id": "V25pyx1XKFHs"
    },
    {
      "cell_type": "code",
      "source": [
        "\n",
        "def get_industries_for_qid(qid):\n",
        "    # Wikidata endpoint for entity data\n",
        "    endpoint_url = \"https://www.wikidata.org/w/api.php\"\n",
        "\n",
        "    # Wikidata query to retrieve information about the entity, including its industry\n",
        "    entity_query = {\n",
        "        \"action\": \"wbgetentities\",\n",
        "        \"format\": \"json\",\n",
        "        \"ids\": qid,\n",
        "        \"languages\": \"en\"\n",
        "    }\n",
        "\n",
        "    # Sending the request to Wikidata\n",
        "    response = requests.get(url=endpoint_url, params=entity_query)\n",
        "\n",
        "    try:\n",
        "        entity_data = response.json()\n",
        "        # Extracting all industry statements (P452 property or a more general property)\n",
        "        industry_statements = entity_data[\"entities\"][qid][\"claims\"].get(\"P452\", [])\n",
        "        if not industry_statements:\n",
        "            industry_statements = entity_data[\"entities\"][qid][\"claims\"].get(\"PXXX\", [])  # Use a more general property\n",
        "\n",
        "        # Collecting industry labels for all statements\n",
        "        industries = []\n",
        "        for statement in industry_statements:\n",
        "            industry_qid = statement[\"mainsnak\"][\"datavalue\"][\"value\"][\"id\"]\n",
        "            industry_label = get_label_for_qid(industry_qid)\n",
        "            if industry_label:\n",
        "                industries.append(industry_label)\n",
        "\n",
        "        return industries\n",
        "\n",
        "    except (KeyError, IndexError, requests.RequestException) as e:\n",
        "        print(f\"Error: {e}\")\n",
        "        return None"
      ],
      "metadata": {
        "id": "flfRtMjwAXu4"
      },
      "id": "flfRtMjwAXu4",
      "execution_count": null,
      "outputs": []
    },
    {
      "cell_type": "markdown",
      "source": [
        "## Function to return the label of a sector\n",
        "This function takes in the qid and returns the label associated with it"
      ],
      "metadata": {
        "id": "0QJrK8_yKh1a"
      },
      "id": "0QJrK8_yKh1a"
    },
    {
      "cell_type": "code",
      "execution_count": null,
      "id": "ffb46ea3",
      "metadata": {
        "id": "ffb46ea3"
      },
      "outputs": [],
      "source": [
        "def get_label_for_qid(qid):\n",
        "    # Wikidata endpoint for entity labels\n",
        "    endpoint_url = \"https://www.wikidata.org/w/api.php\"\n",
        "\n",
        "    # Wikidata query to retrieve the label for the industry\n",
        "    label_query = {\n",
        "        \"action\": \"wbgetentities\",\n",
        "        \"format\": \"json\",\n",
        "        \"ids\": qid,\n",
        "        \"languages\": \"en\"\n",
        "    }\n",
        "\n",
        "    # Sending the request to Wikidata\n",
        "    response = requests.get(url=endpoint_url, params=label_query)\n",
        "\n",
        "    try:\n",
        "        label = response.json()[\"entities\"][qid][\"labels\"][\"en\"][\"value\"]\n",
        "        return label\n",
        "\n",
        "    except (KeyError, IndexError, requests.RequestException) as e:\n",
        "        print(f\"Error: {e}\")\n",
        "        return None"
      ]
    },
    {
      "cell_type": "markdown",
      "source": [
        "## A company may be associated with multiple sectors"
      ],
      "metadata": {
        "id": "TlV5I6drNVRD"
      },
      "id": "TlV5I6drNVRD"
    },
    {
      "cell_type": "code",
      "execution_count": null,
      "id": "c55487fe",
      "metadata": {
        "id": "c55487fe"
      },
      "outputs": [],
      "source": [
        "for key in industry.keys():\n",
        "    st=''\n",
        "    for s in industry[key]:\n",
        "        st+=(s)+', '\n",
        "    if len(st)>2:\n",
        "        industry[key] = st[:-2]"
      ]
    },
    {
      "cell_type": "markdown",
      "source": [
        "## The industry dictionary is converted to a dataframe"
      ],
      "metadata": {
        "id": "IvACJB3HNwg1"
      },
      "id": "IvACJB3HNwg1"
    },
    {
      "cell_type": "code",
      "execution_count": null,
      "id": "e72b61dc",
      "metadata": {
        "id": "e72b61dc"
      },
      "outputs": [],
      "source": [
        "df = pd.DataFrame(list(industry.items()), columns=['Company', 'Sector'])"
      ]
    },
    {
      "cell_type": "markdown",
      "source": [
        "## Converting the dataframe back to an excel sheet"
      ],
      "metadata": {
        "id": "8ZnTLVV9N5jx"
      },
      "id": "8ZnTLVV9N5jx"
    },
    {
      "cell_type": "code",
      "execution_count": null,
      "id": "56ed367a",
      "metadata": {
        "id": "56ed367a"
      },
      "outputs": [],
      "source": [
        "df.to_excel('company2sector.xlsx')"
      ]
    }
  ],
  "metadata": {
    "kernelspec": {
      "display_name": "Python 3 (ipykernel)",
      "language": "python",
      "name": "python3"
    },
    "language_info": {
      "codemirror_mode": {
        "name": "ipython",
        "version": 3
      },
      "file_extension": ".py",
      "mimetype": "text/x-python",
      "name": "python",
      "nbconvert_exporter": "python",
      "pygments_lexer": "ipython3",
      "version": "3.10.5"
    },
    "colab": {
      "provenance": []
    }
  },
  "nbformat": 4,
  "nbformat_minor": 5
}