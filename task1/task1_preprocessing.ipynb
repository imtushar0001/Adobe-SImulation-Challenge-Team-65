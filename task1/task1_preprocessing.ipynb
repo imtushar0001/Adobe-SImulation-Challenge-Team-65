{
  "nbformat": 4,
  "nbformat_minor": 0,
  "metadata": {
    "colab": {
      "provenance": []
    },
    "kernelspec": {
      "name": "python3",
      "display_name": "Python 3"
    },
    "language_info": {
      "name": "python"
    }
  },
  "cells": [
    {
      "cell_type": "markdown",
      "source": [
        "# Preprocessing notebook for task 1\n",
        "- Extracting number of followers of each username helps in estimating the number of likes a tweet would have received.\n"
      ],
      "metadata": {
        "id": "n6M5nNN5xaUC"
      }
    },
    {
      "cell_type": "markdown",
      "source": [
        "## Installing and Importing the necessary libraries"
      ],
      "metadata": {
        "id": "4NR77JtQwgRm"
      }
    },
    {
      "cell_type": "code",
      "execution_count": null,
      "metadata": {
        "id": "-uZ3P-CjZlz5"
      },
      "outputs": [],
      "source": [
        "!pip install pandas\n",
        "!pip install requests\n",
        "!pip install beautifulsoup4\n",
        "import pandas as pd\n",
        "import requests\n",
        "from bs4 import BeautifulSoup"
      ]
    },
    {
      "cell_type": "markdown",
      "source": [
        "## Loading the training dataset to a dataframe\n",
        " Replace 'behaviour_simulation_train.xlsx' with the appropriate file path of the training dataset."
      ],
      "metadata": {
        "id": "H_gKv_1Yw3Eb"
      }
    },
    {
      "cell_type": "code",
      "source": [
        "df=pd.read_excel('behaviour_simulation_train.xlsx')"
      ],
      "metadata": {
        "id": "71ciE7pYwwb4"
      },
      "execution_count": null,
      "outputs": []
    },
    {
      "cell_type": "markdown",
      "source": [
        "## Extracting the Unique Usernames"
      ],
      "metadata": {
        "id": "wBnT_v5kxOTs"
      }
    },
    {
      "cell_type": "code",
      "source": [
        "df_unique_usernames = pd.DataFrame({'username': df['username'].unique()})"
      ],
      "metadata": {
        "id": "tdVfbvLJZqTD"
      },
      "execution_count": null,
      "outputs": []
    },
    {
      "cell_type": "markdown",
      "source": [
        "## Function to convert the number of followers text to an integer ( Eg: 1.8k = 1800 )"
      ],
      "metadata": {
        "id": "ZkS6JkB0e6gU"
      }
    },
    {
      "cell_type": "code",
      "source": [
        "def convert_followers_to_int(followers_text):\n",
        "    followers_text = followers_text.lower()\n",
        "    if 'k' in followers_text:\n",
        "        return int(float(followers_text.replace('k', '')) * 1000)\n",
        "    elif 'm' in followers_text:\n",
        "        return int(float(followers_text.replace('m', '')) * 1000000)\n",
        "    else:\n",
        "        return int(followers_text)"
      ],
      "metadata": {
        "id": "PAW4HrPRZvZ2"
      },
      "execution_count": null,
      "outputs": []
    },
    {
      "cell_type": "markdown",
      "source": [
        "## Function to extract follower count\n",
        "- This website was used for web-scrapping twitter followers count: https://hypeauditor.com/"
      ],
      "metadata": {
        "id": "ZAdMIwtQfKTj"
      }
    },
    {
      "cell_type": "code",
      "source": [
        "def extract_followers_count(username):\n",
        "    url = f'https://hypeauditor.com/twitter/{username}/'\n",
        "    response = requests.get(url)\n",
        "    soup = BeautifulSoup(response.text, 'html.parser')\n",
        "\n",
        "    metrics_div = soup.find('div', {'class': 'metrics flex'})\n",
        "\n",
        "    if metrics_div:\n",
        "        metric_divs = metrics_div.find_all('div', {'class': 'metric'})\n",
        "\n",
        "        for div in metric_divs:\n",
        "            metric_title = div.find('div', {'class': 'metric-title'})\n",
        "            if metric_title and metric_title.text.strip() == 'Followers':\n",
        "                followers_count = div.text.replace('Followers', '').strip()\n",
        "                return convert_followers_to_int(followers_count)\n",
        "\n",
        "    return None"
      ],
      "metadata": {
        "id": "sIcdF_K9Zwfh"
      },
      "execution_count": null,
      "outputs": []
    },
    {
      "cell_type": "markdown",
      "source": [
        "## Using the above functions to fetch the follower count of each unique username"
      ],
      "metadata": {
        "id": "GtCeV0MMf3jq"
      }
    },
    {
      "cell_type": "code",
      "source": [
        "df_unique_usernames['followers'] = df_unique_usernames['username'].apply(lambda x: extract_followers_count(x) if pd.notnull(x) else None)"
      ],
      "metadata": {
        "id": "ykv2mXXKcCiL"
      },
      "execution_count": null,
      "outputs": []
    },
    {
      "cell_type": "markdown",
      "source": [
        "## A new column \"followers\" is added to the original dataframe\n",
        "- A dictionary is created which maps every unique username to the follower count.\n",
        "- This mapping is used to create a new \"followers\" column in the original dataframe."
      ],
      "metadata": {
        "id": "fBwaOKHdgGNT"
      }
    },
    {
      "cell_type": "code",
      "source": [
        "username_followers_mapping = df_unique_usernames.set_index('username')['followers'].to_dict()\n",
        "df['followers'] = df['username'].map(username_followers_mapping)"
      ],
      "metadata": {
        "id": "eaFzm4hPeB3F"
      },
      "execution_count": null,
      "outputs": []
    },
    {
      "cell_type": "markdown",
      "source": [
        "## Converting the dataframe back to an excel sheet"
      ],
      "metadata": {
        "id": "Cjmq1euHzwNd"
      }
    },
    {
      "cell_type": "code",
      "source": [
        "df.to_excel('PS_8_dataset_with_followers.xlsx')"
      ],
      "metadata": {
        "id": "wJyL9wXvzkPr"
      },
      "execution_count": null,
      "outputs": []
    }
  ]
}
